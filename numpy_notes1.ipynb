{
 "cells": [
  {
   "cell_type": "markdown",
   "metadata": {},
   "source": [
    "# NUMPY BASIC COMMANDS"
   ]
  },
  {
   "cell_type": "code",
   "execution_count": 1,
   "metadata": {},
   "outputs": [],
   "source": [
    "import numpy as np"
   ]
  },
  {
   "cell_type": "markdown",
   "metadata": {},
   "source": [
    "### A simple ndarray"
   ]
  },
  {
   "cell_type": "code",
   "execution_count": 3,
   "metadata": {
    "scrolled": true
   },
   "outputs": [
    {
     "name": "stdout",
     "output_type": "stream",
     "text": [
      "[[1 2]\n",
      " [3 4]]\n"
     ]
    }
   ],
   "source": [
    "a = np.array([[1,2], [3,4]])\n",
    "print(a)"
   ]
  },
  {
   "cell_type": "markdown",
   "metadata": {},
   "source": [
    "### Minimum dimension attribute"
   ]
  },
  {
   "cell_type": "code",
   "execution_count": 13,
   "metadata": {},
   "outputs": [
    {
     "name": "stdout",
     "output_type": "stream",
     "text": [
      "[[1 2 3 4 5]]\n"
     ]
    }
   ],
   "source": [
    "a = np.array([1,2,3,4,5], ndmin=2) #ndmin = min dimension\n",
    "print(a) "
   ]
  },
  {
   "cell_type": "markdown",
   "metadata": {},
   "source": [
    "### Data types\n",
    "\n",
    "Data Types | Description\n",
    "---------- | -------------\t\n",
    "1 bool_ | Boolean (True or False) stored as a byte\n",
    "2 int_ | Default integer type (same as C long; normally either int64 or int32)\n",
    "3 intc | Identical to C int (normally int32 or int64)\n",
    "4 intp | Integer used for indexing (same as C ssize_t; normally either int32 or int64)\n",
    "5 int8 | Byte (-128 to 127)\n",
    "6 int16 | Integer (-32768 to 32767)\n",
    "7 int32 | Integer (-2147483648 to 2147483647)\n",
    "8 int64 | Integer (-9223372036854775808 to 9223372036854775807)\n",
    "9 uint8 | Unsigned integer (0 to 255)\n",
    "10 uint16 | Unsigned integer (0 to 65535)\n",
    "11 uint32 | Unsigned integer (0 to 4294967295)\n",
    "12 uint64 | Unsigned integer (0 to 18446744073709551615)\n",
    "13 float_ | Shorthand for float64\n",
    "14 float16 | Half precision float: sign bit, 5 bits exponent, 10 bits mantissa\n",
    "15 float32 | Single precision float: sign bit, 8 bits exponent, 23 bits mantissa\n",
    "16 float64 | Double precision float: sign bit, 11 bits exponent, 52 bits mantissa\n",
    "17 complex_ | Shorthand for complex128\n",
    "18 complex64 | Complex number, represented by two 32-bit floats (real and imaginary components)\n",
    "19 complex128 | Complex number, represented by two 64-bit floats (real and imaginary components)"
   ]
  },
  {
   "cell_type": "code",
   "execution_count": 12,
   "metadata": {},
   "outputs": [
    {
     "name": "stdout",
     "output_type": "stream",
     "text": [
      "[ 1.+0.j  2.+0.j  3.+0.j]\n",
      "[ 1.  2.  3.]\n",
      "[1 2 3]\n"
     ]
    }
   ],
   "source": [
    "a = np.array([1,2,3], dtype=complex)\n",
    "print(a)\n",
    "dt = np.dtype(np.float64)\n",
    "print(np.array([1,2,3], dtype=dt))\n",
    "dt = np.dtype('>i4') \n",
    "# i1=int8, i2=int16, i4=int32, i8=int64\n",
    "# '>' = big-endian '<' = little endian\n",
    "print(np.array([1,2,3], dtype=dt))"
   ]
  },
  {
   "cell_type": "markdown",
   "metadata": {},
   "source": [
    "### Structured data type"
   ]
  },
  {
   "cell_type": "code",
   "execution_count": 14,
   "metadata": {},
   "outputs": [
    {
     "name": "stdout",
     "output_type": "stream",
     "text": [
      "[(10,) (20,) (30,)]\n",
      "[10 20 30]\n"
     ]
    }
   ],
   "source": [
    "dt = np.dtype([('age', np.int8)])\n",
    "a = np.array([(10,), (20, ), (30,)], dtype=dt)\n",
    "print(a)\n",
    "print(a['age'])"
   ]
  },
  {
   "cell_type": "code",
   "execution_count": 21,
   "metadata": {},
   "outputs": [
    {
     "name": "stdout",
     "output_type": "stream",
     "text": [
      "[('name', '>U21'), ('age', 'i1'), ('marks', '<f4')]\n",
      "['akshay' 'avinash' 'debanjan']\n"
     ]
    }
   ],
   "source": [
    "student = np.dtype([('name', '>U21'), ('age', 'i1'), ('marks', 'f4')])\n",
    "print(student)\n",
    "s = np.array([('akshay', 21, 90), ('avinash', 21, 100), ('debanjan', 22, 99.9)], dtype=student)\n",
    "print(s['name'])"
   ]
  },
  {
   "cell_type": "markdown",
   "metadata": {},
   "source": [
    "### Shape, size and dimension manipulation"
   ]
  },
  {
   "cell_type": "code",
   "execution_count": 23,
   "metadata": {},
   "outputs": [
    {
     "name": "stdout",
     "output_type": "stream",
     "text": [
      "(2, 3)\n"
     ]
    }
   ],
   "source": [
    "a = np.array([[1,2,3], [4,5,6]])\n",
    "print(a.shape)"
   ]
  },
  {
   "cell_type": "code",
   "execution_count": 25,
   "metadata": {},
   "outputs": [
    {
     "name": "stdout",
     "output_type": "stream",
     "text": [
      "[[1 2]\n",
      " [3 4]\n",
      " [5 6]]\n"
     ]
    }
   ],
   "source": [
    "a.shape = (3,2)\n",
    "# or a.reshape(3,2)\n",
    "print(a)"
   ]
  },
  {
   "cell_type": "code",
   "execution_count": 30,
   "metadata": {},
   "outputs": [
    {
     "name": "stdout",
     "output_type": "stream",
     "text": [
      "[ 0  1  2  3  4  5  6  7  8  9 10 11 12 13 14 15 16 17 18 19 20 21 22 23] 1\n"
     ]
    }
   ],
   "source": [
    "a = np.arange(24)\n",
    "print(a, a.ndim)\n"
   ]
  },
  {
   "cell_type": "code",
   "execution_count": 32,
   "metadata": {},
   "outputs": [
    {
     "name": "stdout",
     "output_type": "stream",
     "text": [
      "[[[ 0  1  2]\n",
      "  [ 3  4  5]\n",
      "  [ 6  7  8]\n",
      "  [ 9 10 11]]\n",
      "\n",
      " [[12 13 14]\n",
      "  [15 16 17]\n",
      "  [18 19 20]\n",
      "  [21 22 23]]] 3\n"
     ]
    }
   ],
   "source": [
    "b = a.reshape(2,4,3)\n",
    "print(b, b.ndim)"
   ]
  },
  {
   "cell_type": "code",
   "execution_count": 34,
   "metadata": {},
   "outputs": [
    {
     "name": "stdout",
     "output_type": "stream",
     "text": [
      "8\n"
     ]
    }
   ],
   "source": [
    "print(a.itemsize) #returns size of each element in bytes"
   ]
  },
  {
   "cell_type": "markdown",
   "metadata": {},
   "source": [
    "#### Flags:\n",
    "\n",
    "Attribute  | Description\n",
    "---------- | ------------------------\n",
    "1. C_CONTIGUOUS (C)|  The data is in a single, C-style contiguous segment\n",
    "2. F_CONTIGUOUS (F) | The data is in a single, Fortran-style contiguous segment\n",
    "3. OWNDATA (O) | The array owns the memory it uses or borrows it from another object\n",
    "4. WRITEABLE (W) | The data area can be written to. Setting this to False locks the data, making it read-only\n",
    "5. ALIGNED (A) | The data and all elements are aligned appropriately for the hardware\n",
    "6. UPDATEIFCOPY (U) | This array is a copy of some other array. When this array is deallocated, the base array will be updated with the contents of this array"
   ]
  },
  {
   "cell_type": "code",
   "execution_count": 35,
   "metadata": {},
   "outputs": [
    {
     "name": "stdout",
     "output_type": "stream",
     "text": [
      "  C_CONTIGUOUS : True\n",
      "  F_CONTIGUOUS : True\n",
      "  OWNDATA : True\n",
      "  WRITEABLE : True\n",
      "  ALIGNED : True\n",
      "  UPDATEIFCOPY : False\n"
     ]
    }
   ],
   "source": [
    "print(a.flags)"
   ]
  },
  {
   "cell_type": "markdown",
   "metadata": {},
   "source": [
    "### ndarray creation without external object\n",
    "```numpy.empty(shape, dtype = float, order = 'C')```\n",
    "\n",
    "*Order = 'C' for C-style row-major array, 'F' for FORTRAN style column-major array*\n",
    "\n",
    "Creates uninitialized array. Contains garbage values."
   ]
  },
  {
   "cell_type": "code",
   "execution_count": 36,
   "metadata": {},
   "outputs": [
    {
     "name": "stdout",
     "output_type": "stream",
     "text": [
      "[[1 2]\n",
      " [3 4]\n",
      " [5 6]]\n"
     ]
    }
   ],
   "source": [
    "a = np.empty([3,2], dtype=int) \n",
    "print(a) "
   ]
  },
  {
   "cell_type": "markdown",
   "metadata": {},
   "source": [
    "```numpy.zeros(shape, dtype = float, order = 'C')```\n",
    "\n",
    "Creates array with all elements = 0\n",
    "\n",
    "```numpy.ones(shape, dtype = None, order = 'C')```\n",
    "\n",
    "Creates array with all elements = 1\n"
   ]
  },
  {
   "cell_type": "code",
   "execution_count": 38,
   "metadata": {},
   "outputs": [
    {
     "name": "stdout",
     "output_type": "stream",
     "text": [
      "[[(0, 0) (0, 0)]\n",
      " [(0, 0) (0, 0)]]\n"
     ]
    }
   ],
   "source": [
    "x = np.zeros((2,2), dtype = [('x', 'i4'), ('y', 'i4')])  \n",
    "print(x)"
   ]
  },
  {
   "cell_type": "code",
   "execution_count": null,
   "metadata": {},
   "outputs": [],
   "source": []
  }
 ],
 "metadata": {
  "kernelspec": {
   "display_name": "Python 3",
   "language": "python",
   "name": "python3"
  },
  "language_info": {
   "codemirror_mode": {
    "name": "ipython",
    "version": 3
   },
   "file_extension": ".py",
   "mimetype": "text/x-python",
   "name": "python",
   "nbconvert_exporter": "python",
   "pygments_lexer": "ipython3",
   "version": "3.5.2"
  }
 },
 "nbformat": 4,
 "nbformat_minor": 2
}
