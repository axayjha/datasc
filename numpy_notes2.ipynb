{
 "cells": [
  {
   "cell_type": "markdown",
   "metadata": {},
   "source": [
    "### Other methods to create ndarray\n",
    "\n",
    "\n",
    "```numpy.asarray(a, dtype = None, order = None)```"
   ]
  },
  {
   "cell_type": "code",
   "execution_count": 4,
   "metadata": {},
   "outputs": [
    {
     "name": "stdout",
     "output_type": "stream",
     "text": [
      "[ 1.  2.  3.]\n"
     ]
    }
   ],
   "source": [
    "import numpy as np\n",
    "x=(1,2,3)\n",
    "a=np.asarray(x, dtype=float)\n",
    "print(a)"
   ]
  },
  {
   "cell_type": "markdown",
   "metadata": {},
   "source": [
    "```numpy.frombuffer(buffer, dtype = float, count = -1, offset = 0)\n",
    "numpy.fromiter(iterable, dtype, count = -1)\n",
    "```\n",
    "\n",
    "Parameter | Description\n",
    "--------- | ------------\n",
    "1 buffer | Any object that exposes buffer interface\n",
    "2 dtype | Data type of returned ndarray. Defaults to float\n",
    "3 count | The number of items to read, default -1 means all data\n",
    "4 offset | The starting position to read from. Default is 0"
   ]
  },
  {
   "cell_type": "code",
   "execution_count": 11,
   "metadata": {},
   "outputs": [
    {
     "name": "stdout",
     "output_type": "stream",
     "text": [
      "[ 0.  1.  2.  3.  4.]\n"
     ]
    }
   ],
   "source": [
    "list = range(5) \n",
    "it = iter(list)  \n",
    "x = np.fromiter(it, dtype = float) \n",
    "print(x)"
   ]
  },
  {
   "cell_type": "markdown",
   "metadata": {},
   "source": [
    "```numpy.arange(start, stop, step, dtype)```\n",
    "\n",
    "Parameter | Description\n",
    "--------- | ------------\n",
    "1 start | The start of an interval. If omitted, defaults to 0\n",
    "2 stop | The end of an interval (not including this number)\n",
    "3 step | Spacing between values, default is 1\n",
    "4 dtype | Data type of resulting ndarray. If not given, data type of input is used"
   ]
  },
  {
   "cell_type": "code",
   "execution_count": 13,
   "metadata": {},
   "outputs": [
    {
     "name": "stdout",
     "output_type": "stream",
     "text": [
      "[ 0.  1.  2.  3.  4.]\n",
      "[10 12 14 16 18]\n"
     ]
    }
   ],
   "source": [
    "x = np.arange(5, dtype = float)\n",
    "print(x)\n",
    "x = np.arange(10,20,2) \n",
    "print(x)"
   ]
  },
  {
   "cell_type": "markdown",
   "metadata": {},
   "source": [
    "```numpy.linspace(start, stop, num, endpoint, retstep, dtype)```\n",
    "\n",
    "Parameter | Description\n",
    "--------- | ------------\n",
    "1 num | The number of evenly spaced samples to be generated. Default is 50 \n",
    "2 endpoint | True by default, hence the stop value is included in the sequence. If false, it is not included\n",
    "3 retstep | If true, returns samples and step between the consecutive numbers\n"
   ]
  },
  {
   "cell_type": "code",
   "execution_count": 14,
   "metadata": {},
   "outputs": [
    {
     "name": "stdout",
     "output_type": "stream",
     "text": [
      "[ 10.   12.5  15.   17.5  20. ]\n"
     ]
    }
   ],
   "source": [
    "x = np.linspace(10,20,5) \n",
    "print(x)"
   ]
  },
  {
   "cell_type": "code",
   "execution_count": 15,
   "metadata": {},
   "outputs": [
    {
     "name": "stdout",
     "output_type": "stream",
     "text": [
      "[ 10.  12.  14.  16.  18.]\n"
     ]
    }
   ],
   "source": [
    "x = np.linspace(10,20, 5, endpoint = False) \n",
    "print(x)"
   ]
  },
  {
   "cell_type": "code",
   "execution_count": 16,
   "metadata": {},
   "outputs": [
    {
     "name": "stdout",
     "output_type": "stream",
     "text": [
      "(array([ 1.  ,  1.25,  1.5 ,  1.75,  2.  ]), 0.25)\n"
     ]
    }
   ],
   "source": [
    "x = np.linspace(1,2,5, retstep = True) \n",
    "print(x)"
   ]
  },
  {
   "cell_type": "markdown",
   "metadata": {},
   "source": [
    "``` numpy.logspace(start, stop, num, endpoint, base, dtype)```\n",
    "\n",
    "base : Base of log space, default is 10"
   ]
  },
  {
   "cell_type": "code",
   "execution_count": 17,
   "metadata": {},
   "outputs": [
    {
     "name": "stdout",
     "output_type": "stream",
     "text": [
      "[  10.           12.91549665   16.68100537   21.5443469    27.82559402\n",
      "   35.93813664   46.41588834   59.94842503   77.42636827  100.        ]\n"
     ]
    }
   ],
   "source": [
    "a = np.logspace(1.0, 2.0, num = 10) \n",
    "print(a)"
   ]
  },
  {
   "cell_type": "code",
   "execution_count": 18,
   "metadata": {},
   "outputs": [
    {
     "name": "stdout",
     "output_type": "stream",
     "text": [
      "[    2.     4.     8.    16.    32.    64.   128.   256.   512.  1024.]\n"
     ]
    }
   ],
   "source": [
    "a = np.logspace(1,10,num = 10, base = 2) \n",
    "print(a)"
   ]
  },
  {
   "cell_type": "code",
   "execution_count": null,
   "metadata": {},
   "outputs": [],
   "source": []
  }
 ],
 "metadata": {
  "kernelspec": {
   "display_name": "Python 3",
   "language": "python",
   "name": "python3"
  },
  "language_info": {
   "codemirror_mode": {
    "name": "ipython",
    "version": 3
   },
   "file_extension": ".py",
   "mimetype": "text/x-python",
   "name": "python",
   "nbconvert_exporter": "python",
   "pygments_lexer": "ipython3",
   "version": "3.5.2"
  }
 },
 "nbformat": 4,
 "nbformat_minor": 2
}
